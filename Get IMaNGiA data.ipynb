{
 "cells": [
  {
   "cell_type": "markdown",
   "id": "8b71f983",
   "metadata": {},
   "source": [
    "# Mock MaNGA datacubes\n",
    "\n",
    "### This notebook shows how to go from the synthetic iMaNGA datacubes, publicly available, to a mock MaNGA observation\n",
    "\n",
    "#### It can be applied to any other syntethic datacube\n",
    "#### It can be modified to obtain other mock observations\n",
    "\n",
    "\n",
    "#### If used for scientific publications, please, cite Nanni+2022 for the datacubes, Nanni+2023a and Nanni+2023b for the iMaNGA VAC"
   ]
  },
  {
   "cell_type": "code",
   "execution_count": null,
   "id": "393ddd41-64c3-442c-8257-e01e181a4480",
   "metadata": {
    "scrolled": true
   },
   "outputs": [],
   "source": [
    "\n",
    "#!pip install spectral-cube\n",
    "\n",
    "#!pip install reproject\n",
    "#!pip install pyspeckit\n",
    "#!pip install regions"
   ]
  },
  {
   "cell_type": "code",
   "execution_count": 6,
   "id": "d2db683b",
   "metadata": {},
   "outputs": [],
   "source": [
    "import gc\n",
    "import numpy as np\n",
    "import matplotlib.pyplot as plt\n",
    "\n",
    "import mplt_style\n",
    "plt.style.use(mplt_style.style1)\n",
    "import iMANGA_functions as iMANGA\n",
    "\n",
    "from astropy.io import fits\n",
    "from astropy.wcs import WCS # World coordinate system\n",
    "\n",
    "from spectral_cube import SpectralCube    \n",
    "from spectral_cube import LazyMask\n",
    "import spectral_cube\n",
    "\n",
    "import os\n",
    "\n",
    "import copy\n",
    "\n",
    "\n",
    "#rectangular cropping function\n",
    "\n",
    "#%run \"/media/ben/home/ben/Documents/Grad Stuff/MM data/Simplified/2025/0 Imports and functions.ipynb\"\n",
    "%run \"0_Imports.ipynb\"\n",
    "# imports a function called Crop_Nans"
   ]
  },
  {
   "cell_type": "code",
   "execution_count": 8,
   "id": "8dcbae58",
   "metadata": {
    "collapsed": true,
    "jupyter": {
     "outputs_hidden": true
    },
    "scrolled": true
   },
   "outputs": [
    {
     "name": "stdout",
     "output_type": "stream",
     "text": [
      "hit at 818757\n",
      "saved 98_818757_h.fits\n",
      "Mask edges:\n"
     ]
    },
    {
     "name": "stderr",
     "output_type": "stream",
     "text": [
      "/tmp/ipykernel_957404/2585820252.py:13: RuntimeWarning: Mean of empty slice\n",
      "  if(np.nanmean(data[0,lmi,:])>0 or np.nanmean(data[0,lmi,:])<0):\n",
      "/tmp/ipykernel_957404/2585820252.py:18: RuntimeWarning: Mean of empty slice\n",
      "  if(np.nanmean(data[0,:,lmj])>0 or np.nanmean(data[0,:,lmj])<0):\n",
      "/tmp/ipykernel_957404/2585820252.py:22: RuntimeWarning: Mean of empty slice\n",
      "  if(np.nanmean(data[0,np.shape(data[0,:,:])[0]-lmi-1,:])>0 or np.nanmean(data[0,np.shape(data[0,:,:])[0]-lmi-1,:])<0):\n",
      "/tmp/ipykernel_957404/2585820252.py:26: RuntimeWarning: Mean of empty slice\n",
      "  if(np.nanmean(data[0,:,np.shape(data[0,:,:])[1]-lmj-1])>0 or np.nanmean(data[0,:,np.shape(data[0,:,:])[1]-lmj-1])<0):\n"
     ]
    },
    {
     "name": "stdout",
     "output_type": "stream",
     "text": [
      "F 88\n",
      "86 109 87 108\n",
      "saved 98_818757_h_c.fits\n",
      "Deleted 98_818757_h.fits\n",
      "Deleted 98_818757.fits\n",
      "done 818757\n"
     ]
    }
   ],
   "source": [
    "\"\"\"\n",
    "Select galaxy and===-------\n",
    "\n",
    "Now we download the datacube for the galaxy ID=3 in snapshot=96, used in the first paper of the series as an example (https://academic.oup.com/mnras/article/515/1/320/6603844)\n",
    "\n",
    "\n",
    "To download the MaNGA datacubes there are two options:\n",
    "\n",
    "\n",
    "Download from the website through API\n",
    "\n",
    "\"\"\"\n",
    "\n",
    "#value added catalogue####################################################################################\n",
    "VAC_path = \"Vac_Path/iMaNGA_vac.fits\"\n",
    "VAC =  fits.open(VAC_path, mode='denywrite')\n",
    "snap = 98 # running as .py you can pass it as an argument when running the script int(float(sys.argv[1]))\n",
    "################################################################################################################\n",
    "###########################################################################  \n",
    "#        Dummy header\n",
    "#####################\n",
    "sc = SpectralCube.read(\"/media/ben/home/ben/Documents/Grad Stuff/MM data/Simplified/2025/Spectral Cubes/H13CN_J1-0.cube.fits\")\n",
    "header = copy.copy(sc.header)\n",
    "########################################################\n",
    "# Download simulation cubes and crop them to save space\n",
    "########################################################\n",
    "for i in range(818755,10000000):\n",
    "    #seach for the galaxy fils in the catalogue\n",
    "    try:\n",
    "        galaxy_id_VAC = np.where(VAC[1].data['TNG_snap_id']==str(snap)+\"-\"+str(i))[0][0] # index of the galaxy in the iMaNGA VAC\n",
    "    except Exception as e:\n",
    "        #print(e,i)\n",
    "        continue\n",
    "    \n",
    "    print(\"hit at\",i)\n",
    "    \n",
    "    try:\n",
    "        url = \"http://www.tng-project.org/api/TNG50-1/snapshots/\"+str(snap)+\"/subhalos/\"+str(i)+\"/imanga.fits\"\n",
    "        r = iMANGA.get(url)\n",
    "        datacube = fits.getdata(r)\n",
    "        \n",
    "        \n",
    "        \n",
    "        cube_name = str(snap)+\"_\"+str(i)+\".fits\"\n",
    "        \n",
    "        file = fits.open(cube_name)[0]\n",
    "        \n",
    "\n",
    "        ####################################################################################\n",
    "        #make a fake pixel header so that WCS systems work\n",
    "        \n",
    "        header['NAXIS'] = 3\n",
    "        header['NAXIS1'] = file.shape[2]\n",
    "        header['NAXIS2'] = file.shape[1]\n",
    "        header['NAXIS3'] = file.shape[0]\n",
    "        \n",
    "        header[\"CRPIX1\"]  =  0\n",
    "        header[\"CRPIX2\"]  =  0\n",
    "        header[\"CRPIX3\"]  =  0\n",
    "        header[\"CDELT1\"]  =  1\n",
    "        header[\"CDELT2\"]  =  1\n",
    "        header[\"CDELT3\"]  =  1\n",
    "        #These are just dummies############################\n",
    "        header[\"CUNIT1\"]  = 'deg'                \n",
    "        header[\"CUNIT2\"]  = 'deg'               \n",
    "        header[\"CUNIT3\"]  = 'm/s'               \n",
    "        header[\"CTYPE1\"]  = 'RA---SIN'          \n",
    "        header[\"CTYPE2\"]  = 'DEC--SIN'        \n",
    "        header[\"CTYPE3\"]  = 'VRAD'              \n",
    "        ###################################################\n",
    "        header[\"CRVAL1\"]  =     0\n",
    "        header[\"CRVAL2\"]  =     0\n",
    "        header[\"CRVAL3\"]  =     0\n",
    "        header[\"RESTFRQ\"] =        0.0 # na\n",
    "        #######################################################################################################################################################################\n",
    "        ############################################################################################################################################\n",
    "        fake_WCS = WCS(header) \n",
    "        \n",
    "        # Create a Primary HDU (Header/Data Unit)\n",
    "    \n",
    "        hdu = fits.PrimaryHDU(file.data,header=header)\n",
    "        \n",
    "        # Create an HDU List\n",
    "        hdul = fits.HDUList([hdu])\n",
    "        \n",
    "        # Save the FITS file\n",
    "        \n",
    "        cube_name = str(snap)+\"_\"+str(i)+\"_h\"+\".fits\"\n",
    "        \n",
    "        hdul.writeto(cube_name, overwrite=True)\n",
    "        \n",
    "        \n",
    "        print(\"saved\",cube_name)\n",
    "        ############################\n",
    "        ############################ Load the SC now that it has a WSC\n",
    "        sc_SIM = SpectralCube.read(cube_name)\n",
    "        \n",
    "        \n",
    "        #Mask the non-data to save sapce\n",
    "        \n",
    "        ##\n",
    "        ## Fov grid\n",
    "        ##\n",
    "        grid_ =  VAC[3].data[3,galaxy_id_VAC,:,:] # FoV grid\n",
    "        \n",
    "        #\n",
    "        # Mask data cube\n",
    "        #\n",
    "        \n",
    "        grid, masked_data = iMANGA.apply_FOV(grid_, sc_SIM.hdu.data)\n",
    "        #find mask edges\n",
    "        print(\"Mask edges:\")\n",
    "        sx,ex,sy,ey = Crop_Nans(masked_data)\n",
    "        \n",
    "        scN = sc_SIM[:,sx-10:ex+10,sy-10:ey+10]\n",
    "        \n",
    "        cube_name = str(snap)+\"_\"+str(i)+\"_h_c\"+\".fits\"\n",
    "        \n",
    "        scN.write(cube_name)\n",
    "        print(\"saved\",cube_name)\n",
    "\n",
    "        #cleanup\n",
    "        del scN #remove interim cubes\n",
    "        del sc_SIM\n",
    "        del hdu\n",
    "        del hdul\n",
    "        del datacube \n",
    "        gc.collect()\n",
    "        !mv $cube_name Sim_Cubes/\n",
    "        \n",
    "        \n",
    "        \n",
    "        #Remove header-fix cube and original cube to save space\n",
    "        if os.path.exists(str(snap)+\"_\"+str(i)+\"_h\"+\".fits\"):\n",
    "            os.remove(str(snap)+\"_\"+str(i)+\"_h\"+\".fits\")\n",
    "            print(\"Deleted\",str(snap)+\"_\"+str(i)+\"_h\"+\".fits\")\n",
    "        if os.path.exists(str(snap)+\"_\"+str(i)+\".fits\"):\n",
    "            os.remove(str(snap)+\"_\"+str(i)+\".fits\")\n",
    "            print(\"Deleted\",str(snap)+\"_\"+str(i)+\".fits\")\n",
    "        \n",
    "         \n",
    "        print(\"done\",i)\n",
    "    except Exception as e:\n",
    "        print(e,i)\n",
    "        pass\n",
    "    "
   ]
  },
  {
   "cell_type": "code",
   "execution_count": null,
   "id": "ccc3fc28-1d4b-42c2-8d1e-4455ba244800",
   "metadata": {},
   "outputs": [],
   "source": []
  },
  {
   "cell_type": "code",
   "execution_count": null,
   "id": "e34d2951-889c-40dc-9612-98e1db927ad0",
   "metadata": {},
   "outputs": [],
   "source": []
  },
  {
   "cell_type": "code",
   "execution_count": null,
   "id": "c1d02968-beee-4a87-9a80-adaf5d62fccd",
   "metadata": {},
   "outputs": [],
   "source": []
  },
  {
   "cell_type": "code",
   "execution_count": null,
   "id": "96495710-d58b-45c8-aa4a-f3c6b285278b",
   "metadata": {},
   "outputs": [],
   "source": []
  },
  {
   "cell_type": "markdown",
   "id": "e1949b51",
   "metadata": {},
   "source": [
    "### We now input the FoV grid"
   ]
  },
  {
   "cell_type": "code",
   "execution_count": null,
   "id": "a8bbf1b5",
   "metadata": {
    "jupyter": {
     "source_hidden": true
    },
    "scrolled": true
   },
   "outputs": [],
   "source": [
    "galaxy_id_VAC = np.where(VAC[1].data['TNG_snap_id']==str(snap)+\"-\"+str(gal))[0][0] # index of the galaxy in the iMaNGA VAC\n",
    "##\n",
    "## Fov grid\n",
    "##\n",
    "grid_ =  VAC[3].data[3,galaxy_id_VAC,:,:] # FoV grid\n",
    "plt.imshow(grid_.T);\n",
    "plt.title(\"FoV mask\")"
   ]
  },
  {
   "cell_type": "markdown",
   "id": "e48bf0db",
   "metadata": {},
   "source": [
    "### Now we apply this mask to the datacube"
   ]
  },
  {
   "cell_type": "code",
   "execution_count": null,
   "id": "a0ab35cd",
   "metadata": {},
   "outputs": [],
   "source": []
  },
  {
   "cell_type": "code",
   "execution_count": null,
   "id": "f85aeae8",
   "metadata": {},
   "outputs": [],
   "source": []
  },
  {
   "cell_type": "code",
   "execution_count": null,
   "id": "f76eaf78",
   "metadata": {},
   "outputs": [],
   "source": [
    "from astropy.visualization import simple_norm\n",
    "\n",
    "fig = plt.figure(1, figsize=(6, 5))\n",
    "fig.patch.set_facecolor('white')\n",
    "ax=plt.subplot(111)\n",
    "ax.minorticks_on()\n",
    "ax.tick_params(length=8, which='major', direction=\"in\", labelsize=26)\n",
    "ax.tick_params(length=3, which='minor', direction=\"in\", labelsize=26)\n",
    "\n",
    "\n",
    "im = ax.imshow(FoV_datacube[300,:,:].T,cmap='gray'\\\n",
    "              , zorder=2,interpolation='nearest', origin='lower',\\\n",
    "               norm=simple_norm(FoV_datacube[3000,:,:].T, stretch='log', log_a=500))\n",
    "\n",
    "cbar = plt.colorbar(im,ax=ax, pad = .0050, aspect=30)\n",
    "cbar.ax.tick_params(labelsize=26, axis='y', direction='in', )\n",
    "\n",
    "cbar.set_ticks([0.5*10**-17, 2*10**-17])\n",
    "\n",
    "\n",
    "cbar.set_label(r'$ F_\\lambda\\quad\\left[\\,erg/\\,s \\,/m^2\\,/\\,\\AA \\,\\,\\right]$',fontsize=20);\n",
    "cbar.ax.yaxis.get_offset_text().set_fontsize(24)\n",
    "\n",
    "\n",
    "ax.set_xlim(94,200)\n",
    "ax.set_ylim(94,200);"
   ]
  },
  {
   "cell_type": "markdown",
   "id": "c891bc0c",
   "metadata": {},
   "source": [
    "### Adding the noise "
   ]
  },
  {
   "cell_type": "markdown",
   "id": "3123a2ff",
   "metadata": {},
   "source": [
    "As presented in Nanni+2022, we define the SNR as a function of the wavelength from MaNGA observation. \n",
    "\n",
    "The data are here available here. This is computed as the average of SNR functions for 100 randomly selected MaNGA galaxies, considering the spectra at around 1.5 Reff. Change the path accordingly. \n",
    "\n",
    "Including here another SNR function, other mocks can be created\n"
   ]
  },
  {
   "cell_type": "code",
   "execution_count": null,
   "id": "8e6650b5",
   "metadata": {},
   "outputs": [],
   "source": [
    "snr_file = np.genfromtxt(\"./iMaNGA_data/sdss_filters/snr_avarage.dat\")\n",
    "\n",
    "snr = snr_file[:,1]"
   ]
  },
  {
   "cell_type": "code",
   "execution_count": null,
   "id": "cd395c1f",
   "metadata": {},
   "outputs": [],
   "source": [
    "redshift = VAC[1].data[galaxy_id_VAC][2]"
   ]
  },
  {
   "cell_type": "markdown",
   "id": "ea441ac3",
   "metadata": {},
   "source": [
    "We here use the MaStar wavelegths, the file is available here: https://www.icg.port.ac.uk/mastar/"
   ]
  },
  {
   "cell_type": "code",
   "execution_count": null,
   "id": "6f51909c",
   "metadata": {
    "jupyter": {
     "source_hidden": true
    }
   },
   "outputs": [],
   "source": [
    "ver = str(\"v0.2\")\n",
    "lib = str(\"th\")\n",
    "\n",
    "hdul = fits.open('./MaStar_SSP_'+ver+'.fits')\n",
    "wave_rest=hdul[2].data[0,:] #lambda array\n",
    "wave= wave_rest*(1+redshift)\n",
    "hdul.close()"
   ]
  },
  {
   "cell_type": "code",
   "execution_count": null,
   "id": "4bd0e56d",
   "metadata": {
    "jupyter": {
     "source_hidden": true
    },
    "scrolled": true
   },
   "outputs": [],
   "source": [
    "fig, ax = plt.subplots(figsize=(10,4))\n",
    "ax = fig.gca()\n",
    "ax.minorticks_on()\n",
    "ax.tick_params(length=10, which='major', direction=\"in\", labelsize=26)\n",
    "ax.tick_params(length=5, which='minor', direction=\"in\", labelsize=26)\n",
    "\n",
    "plt.plot(wave, snr, linewidth=2, color = \"#AF3133\");\n",
    "\n",
    "plt.ylabel('SNR', fontsize=26); \n",
    "plt.xlabel(r'$\\lambda [\\r{A}]$', fontsize=26);"
   ]
  },
  {
   "cell_type": "markdown",
   "id": "e38feaaf",
   "metadata": {},
   "source": [
    "#### Now, we can include the noise spaxel per spaxel, as in Eq. 4 in Nanni+2022"
   ]
  },
  {
   "cell_type": "code",
   "execution_count": null,
   "id": "0b193899",
   "metadata": {},
   "outputs": [],
   "source": [
    "grid_zero = grid.copy()\n",
    "grid_zero[grid==True] = np.nanmin(FoV_datacube[:, (grid==True)],axis=0)>0\n",
    "\n",
    "bkg_x = np.where((grid == True)&(grid_zero==True))[0][-1]\n",
    "bkg_y = np.where((grid == True)&(grid_zero==True))[1][-1]"
   ]
  },
  {
   "cell_type": "code",
   "execution_count": null,
   "id": "4b3689dd",
   "metadata": {},
   "outputs": [],
   "source": [
    "bkg_  = FoV_datacube[:, bkg_x, bkg_y]"
   ]
  },
  {
   "cell_type": "code",
   "execution_count": null,
   "id": "50abb0ed",
   "metadata": {},
   "outputs": [],
   "source": [
    "pflux = np.zeros((FoV_datacube.shape))\n",
    "newnoise = np.zeros((FoV_datacube.shape))\n",
    "\n",
    "newnoise[:,:,:] = abs(np.sqrt(FoV_datacube[:,:,:])* (np.sqrt(bkg_.reshape(-1,1,1))/snr.reshape(-1,1,1)))\n",
    "pflux[:,:,:] = np.random.normal(FoV_datacube[:,:,:], scale = newnoise[:,:,:])"
   ]
  },
  {
   "cell_type": "code",
   "execution_count": null,
   "id": "9ece73c3",
   "metadata": {},
   "outputs": [],
   "source": [
    "# to avoid unphysical noise produced by the random process \n",
    "pflux[np.less(pflux, 0., where=~np.isnan(pflux))] = np.min(pflux[np.greater(pflux, 0., where=~np.isnan(pflux))])\n",
    "newnoise[np.less(newnoise, 0., where=~np.isnan(newnoise))] = np.min(newnoise[np.greater(newnoise, 0., where=~np.isnan(newnoise))])"
   ]
  },
  {
   "cell_type": "markdown",
   "id": "8f48482a",
   "metadata": {},
   "source": [
    "#### Here it follows some examples of the effects of adding the noise to the spectra in different ares"
   ]
  },
  {
   "cell_type": "markdown",
   "id": "c7f7513c",
   "metadata": {
    "jupyter": {
     "source_hidden": true
    }
   },
   "source": [
    "### We can now add the effect of the point spread function\n",
    "\n",
    "#### the point spread function, being added after the noise, make sure to reproduce the covariance among adjacent spacels in the datacube\n"
   ]
  },
  {
   "cell_type": "markdown",
   "id": "b5f6ea0b",
   "metadata": {},
   "source": [
    "#### we make use of the SDSS filters to convolve with the effective PSF in the differnt wavelegth band\n",
    "\n",
    "##### this data are made available, change the path accordingly"
   ]
  },
  {
   "cell_type": "code",
   "execution_count": null,
   "id": "e13aafd8",
   "metadata": {
    "jupyter": {
     "source_hidden": true
    }
   },
   "outputs": [],
   "source": [
    "filer_g = np.genfromtxt('./iMaNGA_data/sdss_filters/SLOAN_SDSS.g.dat')\n",
    "wave_g = filer_g[:,0]\n",
    "response_g = filer_g[:,1]\n",
    "\n",
    "filer_r = np.genfromtxt('./iMaNGA_data/sdss_filters/SLOAN_SDSS.r.dat')\n",
    "wave_r = filer_r[:,0]\n",
    "response_r = filer_r[:,1]\n",
    "\n",
    "filer_i = np.genfromtxt('./iMaNGA_data/sdss_filters/SLOAN_SDSS.i.dat')\n",
    "wave_i = filer_i[:,0]\n",
    "response_i = filer_i[:,1]\n",
    "\n",
    "filer_z = np.genfromtxt('./iMaNGA_data/sdss_filters/SLOAN_SDSS.z.dat')\n",
    "wave_z = filer_z[:,0]\n",
    "response_z = filer_z[:,1]\n"
   ]
  },
  {
   "cell_type": "code",
   "execution_count": null,
   "id": "2f374500",
   "metadata": {
    "jupyter": {
     "source_hidden": true
    }
   },
   "outputs": [],
   "source": [
    "fig, ax = plt.subplots(figsize=(10,4))\n",
    "ax = fig.gca()\n",
    "ax.minorticks_on()\n",
    "ax.tick_params(length=10, which='major', direction=\"in\", labelsize=26)\n",
    "ax.tick_params(length=5, which='minor', direction=\"in\", labelsize=26)\n",
    "\n",
    "xc = int(np.shape(FoV_datacube[0,0,:])[0]/2)\n",
    "\n",
    "plt.plot(wave, FoV_datacube[:, xc, xc], '-', alpha=.8, color='#010F13', linewidth=1.3, label='synthetic spectrum', zorder=3)\n",
    "plt.plot(wave, pflux[:, xc, xc], '-', alpha=0.8, color='#AF3133', linewidth=1.3, label=r'perturbed', zorder=2)\n",
    "\n",
    "\n",
    "\n",
    "plt.ylabel(r'$ F_\\lambda\\quad\\left[\\,erg/s \\,/m^2/\\,\\AA \\,\\,\\right]$', fontsize=26); \n",
    "plt.xlabel(r'$\\lambda [\\r{A}]$', fontsize=26) #micron\n",
    "plt.legend(fontsize=26)\n",
    "plt.grid(ls = '-.', lw = 0.55)\n",
    "ax.yaxis.get_offset_text().set_fontsize(24)\n"
   ]
  },
  {
   "cell_type": "code",
   "execution_count": null,
   "id": "1cceaa1b",
   "metadata": {
    "jupyter": {
     "source_hidden": true
    },
    "scrolled": true
   },
   "outputs": [],
   "source": [
    "fig, ax = plt.subplots(figsize=(10,4))\n",
    "ax = fig.gca()\n",
    "ax.minorticks_on()\n",
    "ax.tick_params(length=10, which='major', direction=\"in\", labelsize=26)\n",
    "ax.tick_params(length=5, which='minor', direction=\"in\", labelsize=26)\n",
    "\n",
    "xc = int(np.shape(FoV_datacube[0,0,:])[0]/2)\n",
    "\n",
    "plt.plot(wave, FoV_datacube[:, xc-5, xc+5], '-', alpha=.8, color='#010F13', linewidth=1.3, label='synthetic spectrum', zorder=3)\n",
    "plt.plot(wave, pflux[:, xc-5, xc+5], '-', alpha=0.8, color='#AF3133', linewidth=1.3, label=r'perturbed', zorder=2)\n",
    "\n",
    "\n",
    "\n",
    "plt.ylabel(r'$ F_\\lambda\\quad\\left[\\,erg/s \\,/m^2/\\,\\AA \\,\\,\\right]$', fontsize=26); \n",
    "plt.xlabel(r'$\\lambda [\\r{A}]$', fontsize=26) #micron\n",
    "plt.legend(fontsize=26)\n",
    "plt.grid(ls = '-.', lw = 0.55)\n",
    "ax.yaxis.get_offset_text().set_fontsize(24)"
   ]
  },
  {
   "cell_type": "code",
   "execution_count": null,
   "id": "74bdeb09",
   "metadata": {},
   "outputs": [],
   "source": []
  },
  {
   "cell_type": "markdown",
   "id": "41811ef9",
   "metadata": {},
   "source": [
    "### We construct an average effective PSF in MaNGA observation (see Nanni+2022)\n",
    "#### it is available to be used"
   ]
  },
  {
   "cell_type": "code",
   "execution_count": null,
   "id": "650a561e",
   "metadata": {
    "jupyter": {
     "source_hidden": true
    }
   },
   "outputs": [],
   "source": [
    "hdu_psf, headerPSF = fits.getdata(\"./iMaNGA_data/sdss_filters/ePSF.fits.gz\", header=True)\n",
    "\n",
    "psfg = hdu_psf[:,:, 0]\n",
    "psfr = hdu_psf[:,:, 1]\n",
    "psfi = hdu_psf[:,:, 2]\n",
    "psfz = hdu_psf[:,:, 3]"
   ]
  },
  {
   "cell_type": "markdown",
   "id": "d18cbc78",
   "metadata": {},
   "source": [
    "##### Now we convolve the datacubes with the effective PSF\n",
    "\n",
    "##### WARNING: it might takes a few minutes"
   ]
  },
  {
   "cell_type": "code",
   "execution_count": null,
   "id": "694cc498",
   "metadata": {
    "jupyter": {
     "source_hidden": true
    }
   },
   "outputs": [],
   "source": [
    "from astropy.convolution import convolve"
   ]
  },
  {
   "cell_type": "code",
   "execution_count": null,
   "id": "b66f77f5",
   "metadata": {},
   "outputs": [],
   "source": [
    "# We can resize the matrix for faster computation and lower computational cost when saving the files"
   ]
  },
  {
   "cell_type": "code",
   "execution_count": null,
   "id": "0baf31b4",
   "metadata": {},
   "outputs": [],
   "source": [
    "pflux_300 = pflux[:,~np.isnan(pflux[300,:,:]).all((1))]\n",
    "pflux_300 = pflux_300[:,:,~np.isnan(pflux[300,:,:]).all((1))]"
   ]
  },
  {
   "cell_type": "code",
   "execution_count": null,
   "id": "c0a225a5",
   "metadata": {
    "jupyter": {
     "source_hidden": true
    }
   },
   "outputs": [],
   "source": [
    "grid = np.where(grid==0, np.nan,grid)\n",
    "grid_300 = grid[:,~np.isnan(grid).all(1)]\n",
    "grid_300 = grid_300[~np.isnan(grid).all(1)]"
   ]
  },
  {
   "cell_type": "code",
   "execution_count": null,
   "id": "d98e40aa",
   "metadata": {
    "jupyter": {
     "source_hidden": true
    }
   },
   "outputs": [],
   "source": [
    "im_convoluta = np.zeros((np.shape(pflux_300)))\n",
    "for k in range(len(wave)):\n",
    "    if wave[k]<=wave_r.min():\n",
    "        im_convoluta[k, :,:] = np.where(grid_300==True, convolve(pflux_300[k, :,:], psfg), float(\"Nan\"))\n",
    "    if wave_r.min()<wave[k]<=wave_g.max():\n",
    "        im_convoluta[k, :,:] = np.where(grid_300==True, convolve(pflux_300[k, :,:], np.mean((psfr, psfg), axis=0)), float(\"Nan\"))\n",
    "    if wave_g.max()<wave[k]<=wave_i.min():\n",
    "        im_convoluta[k, :,:] = np.where(grid_300==True, convolve(pflux_300[k, :,:], psfr), float(\"Nan\"))\n",
    "    if wave_i.min()<wave[k]<=wave_r.max():\n",
    "        im_convoluta[k, :,:] = np.where(grid_300==True, convolve(pflux_300[k, :,:], np.mean((psfr, psfi), axis=0)), float(\"Nan\"))\n",
    "    if wave_r.max()<wave[k]<=wave_z.min():\n",
    "        im_convoluta[k, :,:] = np.where(grid_300==True, convolve(pflux_300[k, :,:],psfi), float(\"Nan\"))\n",
    "    if wave_z.min()<wave[k]<=wave_i.max():\n",
    "        im_convoluta[k, :,:] = np.where(grid_300==True, convolve(pflux_300[k, :,:],np.mean((psfi, psfz), axis=0)), float(\"Nan\"))\n",
    "    if wave_i.max()<wave[k]<=wave_z.max():\n",
    "        im_convoluta[k, :,:] = np.where(grid_300==True, convolve(pflux_300[k, :,:],psfz), float(\"Nan\"))    \n",
    "    if wave[k]>wave_z.max():\n",
    "        im_convoluta[k, :,:] = np.where(grid_300==True, convolve(pflux_300[k, :,:],psfz), float(\"Nan\"))    \n",
    "\n"
   ]
  },
  {
   "cell_type": "code",
   "execution_count": null,
   "id": "2c726337",
   "metadata": {
    "jupyter": {
     "source_hidden": true
    },
    "scrolled": true
   },
   "outputs": [],
   "source": [
    "fig = plt.figure(1, figsize=(6, 5))\n",
    "fig.patch.set_facecolor('white')\n",
    "ax=plt.subplot(111)\n",
    "ax.minorticks_on()\n",
    "ax.tick_params(length=8, which='major', direction=\"in\", labelsize=26)\n",
    "ax.tick_params(length=3, which='minor', direction=\"in\", labelsize=26)\n",
    "\n",
    "\n",
    "im = ax.imshow(im_convoluta[300,:,:].T,cmap='gray'\\\n",
    "              , zorder=2,interpolation='nearest', origin='lower',\\\n",
    "               norm=simple_norm(im_convoluta[300,:,:].T, stretch='log', log_a=500))\n",
    "\n",
    "cbar = plt.colorbar(im,ax=ax, pad = .0050, aspect=30)\n",
    "cbar.ax.tick_params(labelsize=26, axis='y', direction='in', )\n",
    "\n",
    "cbar.set_ticks([0.5*10**-17, 2*10**-17])\n",
    "\n",
    "\n",
    "cbar.set_label(r'$ F_\\lambda\\quad\\left[\\,erg/\\,s \\,/m^2\\,/\\,\\AA \\,\\,\\right]$',fontsize=20);\n",
    "cbar.ax.yaxis.get_offset_text().set_fontsize(24)\n",
    "\n"
   ]
  },
  {
   "cell_type": "code",
   "execution_count": null,
   "id": "428f387b",
   "metadata": {},
   "outputs": [],
   "source": []
  }
 ],
 "metadata": {
  "kernelspec": {
   "display_name": "Python 3 (ipykernel)",
   "language": "python",
   "name": "python3"
  },
  "language_info": {
   "codemirror_mode": {
    "name": "ipython",
    "version": 3
   },
   "file_extension": ".py",
   "mimetype": "text/x-python",
   "name": "python",
   "nbconvert_exporter": "python",
   "pygments_lexer": "ipython3",
   "version": "3.9.23"
  }
 },
 "nbformat": 4,
 "nbformat_minor": 5
}
